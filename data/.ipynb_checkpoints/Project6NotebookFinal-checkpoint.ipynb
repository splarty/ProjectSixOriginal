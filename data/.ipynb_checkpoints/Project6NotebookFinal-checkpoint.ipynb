{
 "cells": [
  {
   "cell_type": "code",
   "execution_count": 148,
   "metadata": {
    "collapsed": false
   },
   "outputs": [
    {
     "name": "stdout",
     "output_type": "stream",
     "text": [
      "/Volumes/iTunes/Projects/Analytics Course/ProjectSix/_Project/_Project/projectReveal/data\n"
     ]
    }
   ],
   "source": [
    "cd \"/Volumes/iTunes/Projects/Analytics Course/ProjectSix/_Project/_Project/projectReveal/data\""
   ]
  },
  {
   "cell_type": "code",
   "execution_count": 149,
   "metadata": {
    "collapsed": false
   },
   "outputs": [],
   "source": [
    "%matplotlib inline\n",
    "import pandas as pd\n",
    "import numpy as np\n",
    "import datetime\n",
    "import matplotlib\n",
    "import matplotlib.pyplot as plt\n",
    "\n",
    "\n",
    "data = pd.read_csv('prosperLoanDataAll.csv')"
   ]
  },
  {
   "cell_type": "code",
   "execution_count": 150,
   "metadata": {
    "collapsed": false
   },
   "outputs": [
    {
     "name": "stdout",
     "output_type": "stream",
     "text": [
      "['monthyear' 'ListingKey' 'ListingNumber' 'ListingCreationDate'\n",
      " 'CreditGrade' 'Term' 'LoanStatus' 'ClosedDate' 'BorrowerAPR'\n",
      " 'BorrowerRate' 'LenderYield' 'EstimatedEffectiveYield' 'EstimatedLoss'\n",
      " 'EstimatedReturn' 'ProsperRatingNum' 'ProsperRating..Alpha.'\n",
      " 'ProsperScore' 'ListingCategoryNum' 'BorrowerState' 'Occupation'\n",
      " 'EmploymentStatus' 'EmploymentStatusDuration' 'IsBorrowerHomeowner'\n",
      " 'CurrentlyInGroup' 'GroupKey' 'DateCreditPulled' 'CreditScoreRangeLower'\n",
      " 'CreditScoreRangeUpper' 'FirstRecordedCreditLine' 'CurrentCreditLines'\n",
      " 'OpenCreditLines' 'TotalCreditLinespast7years' 'OpenRevolvingAccounts'\n",
      " 'OpenRevolvingMonthlyPayment' 'InquiriesLast6Months' 'TotalInquiries'\n",
      " 'CurrentDelinquencies' 'AmountDelinquent' 'DelinquenciesLast7Years'\n",
      " 'PublicRecordsLast10Years' 'PublicRecordsLast12Months'\n",
      " 'RevolvingCreditBalance' 'BankcardUtilization' 'AvailableBankcardCredit'\n",
      " 'TotalTrades' 'TradesNeverDelinquent..percentage.'\n",
      " 'TradesOpenedLast6Months' 'DebtToIncomeRatio' 'IncomeRange'\n",
      " 'IncomeVerifiable' 'StatedMonthlyIncome' 'LoanKey' 'TotalProsperLoans'\n",
      " 'TotalProsperPaymentsBilled' 'OnTimeProsperPayments'\n",
      " 'ProsperPaymentsLessThanOneMonthLate' 'ProsperPaymentsOneMonthPlusLate'\n",
      " 'ProsperPrincipalBorrowed' 'ProsperPrincipalOutstanding'\n",
      " 'ScorexChangeAtTimeOfListing' 'LoanCurrentDaysDelinquent'\n",
      " 'LoanFirstDefaultedCycleNumber' 'LoanMonthsSinceOrigination' 'LoanNumber'\n",
      " 'LOA' 'LoanOriginationDate' 'LoanOriginationQuarter' 'MemberKey'\n",
      " 'MonthlyLoanPayment' 'LP_CustomerPayments' 'LP_CustomerPrincipalPayments'\n",
      " 'LP_InterestandFees' 'LP_ServiceFees' 'LP_CollectionFees'\n",
      " 'LP_GrossPrincipalLoss' 'LP_NetPrincipalLoss'\n",
      " 'LP_NonPrincipalRecoverypayments' 'PercentFunded' 'Recommendations'\n",
      " 'InvestmentFromFriendsCount' 'InvestmentFromFriendsAmount' 'Investors'\n",
      " 'RecessionDates' 'BreakDates' 'CombCreditRating' 'CombCreditRating.num'\n",
      " 'Month.x' 'UERate' 'Month.y' 'FedFundsRate' 'LoanOriginationDate.y'\n",
      " 'LoanOriginationDate.m' 'LoanStatus.new' 'ListingCategoryNum.new'\n",
      " 'LP_NetPrincipalLoss.pc' 'NetLendersYield']\n"
     ]
    }
   ],
   "source": [
    "print data.columns.values\n"
   ]
  },
  {
   "cell_type": "markdown",
   "metadata": {},
   "source": [
    "### Calculate Actual Term of Loans"
   ]
  },
  {
   "cell_type": "code",
   "execution_count": 151,
   "metadata": {
    "collapsed": false
   },
   "outputs": [
    {
     "name": "stdout",
     "output_type": "stream",
     "text": [
      "113937\n",
      "55089\n"
     ]
    }
   ],
   "source": [
    "data['ListingCreationDateNew'] = pd.to_datetime(data['LoanOriginationDate'], format='%Y-%m-%d')\n",
    "data['ClosedDateNew'] = pd.to_datetime(data['ClosedDate'], format='%Y-%m-%d')\n",
    "\n",
    "data['EstPrincipalRecovery'] = data['LP_GrossPrincipalLoss'] - data['LP_NetPrincipalLoss']\n",
    "\n",
    "data['TrueTerm'] = (data.ClosedDateNew - data.ListingCreationDateNew).astype('timedelta64[M]')\n",
    "\n",
    "data['TrueTermYears'] = (data['TrueTerm'])/12\n",
    "\n",
    "data['TrueTermDifference'] = (data.Term - data.TrueTerm).round()\n",
    "\n",
    "# datesNotCurrent = data[(data[\"LoanStatus\"] != \"Current\") & (data[\"LoanStatus\"] != \"FinalPaymentInProgress\") ][['Term','TrueTerm','TrueTermDifference']]\n",
    "\n",
    "# print len(datesNotCurrent)\n",
    "# print datesNotCurrent\n",
    "print len(data[['ClosedDate']])\n",
    "print len(data[['ClosedDate']].dropna())"
   ]
  },
  {
   "cell_type": "markdown",
   "metadata": {},
   "source": [
    "## Summary Statistics for basic variables"
   ]
  },
  {
   "cell_type": "code",
   "execution_count": 153,
   "metadata": {
    "collapsed": false
   },
   "outputs": [
    {
     "name": "stdout",
     "output_type": "stream",
     "text": [
      "All\n",
      "LOA                                9.498943e+08\n",
      "LP_CustomerPayments                4.766075e+08\n",
      "EstPrincipalRecovery               2.167748e+06\n",
      "LP_NonPrincipalRecoverypayments    2.864682e+06\n",
      "dtype: float64\n",
      "\n",
      "Not Current\n",
      "LOA                                3.386524e+08\n",
      "LP_CustomerPayments                3.201915e+08\n",
      "EstPrincipalRecovery               2.167748e+06\n",
      "LP_NonPrincipalRecoverypayments    2.864682e+06\n",
      "dtype: float64\n",
      "\n",
      "Not Current Pre 2009\n",
      "LOA                                1.785605e+08\n",
      "LP_CustomerPayments                1.646391e+08\n",
      "EstPrincipalRecovery               1.458044e+06\n",
      "LP_NonPrincipalRecoverypayments    2.215806e+06\n",
      "dtype: float64\n",
      "\n",
      "Not Current Post 2010\n",
      "LOA                                1.762448e+08\n",
      "LP_CustomerPayments                1.605936e+08\n",
      "EstPrincipalRecovery               6.538437e+05\n",
      "LP_NonPrincipalRecoverypayments    6.006818e+05\n",
      "dtype: float64\n"
     ]
    }
   ],
   "source": [
    "print \"All\"\n",
    "print data[['LOA','LP_CustomerPayments','EstPrincipalRecovery',\"LP_NonPrincipalRecoverypayments\"]].sum()\n",
    "\n",
    "print ''\n",
    "print \"Not Current\"\n",
    "print data[(data[\"LoanStatus\"] != \"Current\") & (data[\"TrueTerm\"] > 0) ][['LOA','LP_CustomerPayments','EstPrincipalRecovery',\"LP_NonPrincipalRecoverypayments\"]].sum()\n",
    "\n",
    "print ''\n",
    "print \"Not Current Pre 2009\"\n",
    "print data[(data[\"LoanStatus\"] != \"Current\") & (data[\"LoanOriginationDate.y\"] < 2009)  ][['LOA','LP_CustomerPayments','EstPrincipalRecovery',\"LP_NonPrincipalRecoverypayments\"]].sum()\n",
    "\n",
    "print ''\n",
    "print \"Not Current Post 2010\"\n",
    "print data[(data[\"LoanStatus\"] != \"Current\") & (data[\"LoanOriginationDate.y\"] >= 2010)  ][['LOA','LP_CustomerPayments','EstPrincipalRecovery',\"LP_NonPrincipalRecoverypayments\"]].sum()\n"
   ]
  },
  {
   "cell_type": "markdown",
   "metadata": {},
   "source": [
    "## For Map: Count and Sum of Loans by Year, State & Category"
   ]
  },
  {
   "cell_type": "code",
   "execution_count": 109,
   "metadata": {
    "collapsed": false
   },
   "outputs": [],
   "source": [
    "tableTotal = data.pivot_table(index = [\"LoanOriginationDate.y\",\"BorrowerState\",'ListingCategoryNum.new'], values='LOA', aggfunc=np.sum)\n",
    "tableLen = data.pivot_table(index = [\"LoanOriginationDate.y\",\"BorrowerState\",'ListingCategoryNum.new'], values='LOA', aggfunc=len)"
   ]
  },
  {
   "cell_type": "code",
   "execution_count": 110,
   "metadata": {
    "collapsed": true
   },
   "outputs": [],
   "source": [
    "tableTotalFinal = tableTotal.unstack('ListingCategoryNum.new')\n",
    "tableLenFinal = tableLen.unstack('ListingCategoryNum.new')"
   ]
  },
  {
   "cell_type": "code",
   "execution_count": 111,
   "metadata": {
    "collapsed": false
   },
   "outputs": [
    {
     "data": {
      "text/plain": [
       "array(['LoanOriginationDate.y', 'BorrowerState', 'Auto', 'Business',\n",
       "       'Debt', 'Home', 'Medical', 'Other/NA', 'Personal', 'Student',\n",
       "       'Taxes', 'Vacation', 'Wedding'], dtype=object)"
      ]
     },
     "execution_count": 111,
     "metadata": {},
     "output_type": "execute_result"
    }
   ],
   "source": [
    "tableTotalFinal = tableTotalFinal.fillna(0).reset_index()\n",
    "tableLenFinal = tableLenFinal.fillna(0).reset_index()\n",
    "\n",
    "tableTotalFinal.columns.values\n",
    "tableLenFinal.columns.values"
   ]
  },
  {
   "cell_type": "code",
   "execution_count": 112,
   "metadata": {
    "collapsed": true
   },
   "outputs": [],
   "source": [
    "tableLenFinal.columns = ['Year', 'State', 'Auto', 'Business', 'Debt', 'Home', 'Medical', 'Other/NA', 'Personal', 'Student', 'Taxes', 'Vacation', 'Wedding']\n",
    "tableTotalFinal.columns = ['Year', 'State', 'Auto', 'Business', 'Debt', 'Home', 'Medical', 'Other/NA', 'Personal', 'Student', 'Taxes', 'Vacation', 'Wedding']"
   ]
  },
  {
   "cell_type": "code",
   "execution_count": 113,
   "metadata": {
    "collapsed": false
   },
   "outputs": [],
   "source": [
    "FIPS = {'AK': 'US02', 'AL': 'US01', 'AR': 'US05', 'AS': 'US60', 'AZ': 'US04', 'CA': 'US06', 'CO': 'US08', 'CT': 'US09',\n",
    "        'DC': 'US11', 'DE': 'US10', 'FL': 'US12', 'GA': 'US13', 'GU': 'US66', 'HI': 'US15', 'IA': 'US19',\n",
    "        'ID': 'US16', 'IL': 'US17', 'IN': 'US18', 'KS': 'US20', 'KY': 'US21', 'LA': 'US22', 'MA': 'US25',\n",
    "        'MD': 'US24', 'ME': 'US23', 'MI': 'US26', 'MN': 'US27', 'MO': 'US29', 'MS': 'US28', 'MT': 'US30', \n",
    "        'NC': 'US37', 'ND': 'US38', 'NE': 'US31', 'NH': 'US33', 'NJ': 'US34', 'NM': 'US35', 'NV': 'US32', \n",
    "        'NY': 'US36', 'OH': 'US39', 'OK': 'US40', 'OR': 'US41', 'PA': 'US42', 'PR': 'US72', 'RI': 'US44', \n",
    "        'SC': 'US45', 'SD': 'US46', 'TN': 'US47', 'TX': 'US48', 'UT': 'US49', 'VA': 'US51', 'VI': 'US78', \n",
    "        'VT': 'US50', 'WA': 'US53', 'WI': 'US55', 'WV': 'US54', 'WY': 'US56'}\n",
    "\n",
    "tableLenFinal['FIPS'] = tableLenFinal['State'].map(FIPS)\n",
    "tableTotalFinal['FIPS'] = tableTotalFinal['State'].map(FIPS)"
   ]
  },
  {
   "cell_type": "code",
   "execution_count": 114,
   "metadata": {
    "collapsed": false
   },
   "outputs": [],
   "source": [
    "# print tableTotalFinal.columns.values\n",
    "\n",
    "# print tableTotalFinal"
   ]
  },
  {
   "cell_type": "markdown",
   "metadata": {
    "collapsed": false
   },
   "source": [
    "capitalizer = lambda x: x/1000000.0\n",
    "\n",
    "tableTotalFinal[['Auto', 'Business', 'Debt', 'Home', 'Medical', 'Other/NA', 'Personal', 'Student', 'Taxes', 'Vacation', 'Wedding']] = tableTotalFinal[['Auto', 'Business', 'Debt', 'Home', 'Medical', 'Other/NA', 'Personal', 'Student', 'Taxes', 'Vacation', 'Wedding']].divide(1000000)"
   ]
  },
  {
   "cell_type": "code",
   "execution_count": 115,
   "metadata": {
    "collapsed": false
   },
   "outputs": [],
   "source": [
    "del tableLenFinal, tableTotalFinal, tableTotal, tableLen"
   ]
  },
  {
   "cell_type": "markdown",
   "metadata": {
    "collapsed": false
   },
   "source": [
    "tableLenFinal2007 = tableLenFinal[tableLenFinal['Year']>=2007]\n",
    "tableTotalFinal2007 = tableTotalFinal[tableTotalFinal['Year']>=2007]\n",
    "\n",
    "tableLenFinal.to_csv('ListingCategory.csv', index=False)\n",
    "tableLenFinal2007.to_csv('ListingCategory2007.csv', index=False)\n",
    "\n",
    "tableTotalFinal.to_csv('ListingTotalCategory.csv', index=False)\n",
    "tableTotalFinal2007.to_csv('ListingTotalCategory2007.csv', index=False)"
   ]
  },
  {
   "cell_type": "markdown",
   "metadata": {
    "collapsed": false
   },
   "source": [
    "### Not Used: Count and Sum of Loans by Year & Category"
   ]
  },
  {
   "cell_type": "code",
   "execution_count": 116,
   "metadata": {
    "collapsed": true
   },
   "outputs": [],
   "source": [
    "tableLoanAmount = data.pivot_table(index = [\"LoanOriginationDate.y\",'ListingCategoryNum.new'], values='LOA', aggfunc=[np.sum,np.mean,len])\n",
    "tableLoanAmount = tableLoanAmount.fillna(0).reset_index()\n",
    "tableLoanAmount.columns = ['Year', 'Category', 'Total', 'Average', 'Count']\n",
    "\n",
    "\n",
    "# pd.pivot_table(df,index=[\"Manager\",\"Rep\"],values=[\"Price\"],aggfunc=[np.mean,len])"
   ]
  },
  {
   "cell_type": "code",
   "execution_count": 117,
   "metadata": {
    "collapsed": true
   },
   "outputs": [],
   "source": [
    "tableLoanAmount2007 = tableLoanAmount[tableLoanAmount['Year']>=2007]\n"
   ]
  },
  {
   "cell_type": "markdown",
   "metadata": {},
   "source": [
    "\n",
    "tableLoanAmount.to_csv('ListingAmount.csv', index=False)\n",
    "tableLoanAmount2007.to_csv('ListingAmount2007.csv', index=False)"
   ]
  },
  {
   "cell_type": "code",
   "execution_count": 118,
   "metadata": {
    "collapsed": false
   },
   "outputs": [],
   "source": [
    "categories ={'Auto':\"Auto & Home\",  'Business':'Business', 'Debt':'Debt', 'Home': \"Auto & Home\", \n",
    "                'Medical': \"Medical & Personal\", 'Other/NA': \"Other/NA\", \n",
    "                        'Personal': \"Medical & Personal\",  'Student': \"Student\", 'Taxes': \"Taxes\",\n",
    "             'Vacation': \"Medical & Personal\", 'Wedding': \"Medical & Personal\"}\n",
    "\n",
    "data['Categories'] = data['ListingCategoryNum.new'].map(categories)\n",
    "\n",
    "# print data[['Categories']]"
   ]
  },
  {
   "cell_type": "code",
   "execution_count": 119,
   "metadata": {
    "collapsed": false
   },
   "outputs": [],
   "source": [
    "# tableLoanAmount2007"
   ]
  },
  {
   "cell_type": "code",
   "execution_count": 120,
   "metadata": {
    "collapsed": true
   },
   "outputs": [],
   "source": [
    "tableLoanAmountByState = data.pivot_table(index = [\"LoanOriginationDate.y\",'BorrowerState','Categories'], values='LOA', aggfunc=[np.sum,np.mean,len])\n",
    "tableLoanAmountByState = tableLoanAmountByState.fillna(0).reset_index()\n",
    "tableLoanAmountByState.columns = ['Year', 'State','Category', 'Total', 'Average', 'Count']\n",
    "\n",
    "\n",
    "# pd.pivot_table(df,index=[\"Manager\",\"Rep\"],values=[\"Price\"],aggfunc=[np.mean,len])"
   ]
  },
  {
   "cell_type": "code",
   "execution_count": 121,
   "metadata": {
    "collapsed": false
   },
   "outputs": [],
   "source": [
    "tableLoanAmountByState2007 = tableLoanAmount[tableLoanAmount['Year']>=2007]\n",
    "\n"
   ]
  },
  {
   "cell_type": "code",
   "execution_count": 122,
   "metadata": {
    "collapsed": true
   },
   "outputs": [],
   "source": [
    "del tableLoanAmount, tableLoanAmountByState, tableLoanAmountByState2007"
   ]
  },
  {
   "cell_type": "markdown",
   "metadata": {},
   "source": [
    "## Default Rates"
   ]
  },
  {
   "cell_type": "code",
   "execution_count": 209,
   "metadata": {
    "collapsed": true
   },
   "outputs": [],
   "source": [
    "tableDefaultTotal = data.pivot_table(index = [\"LoanOriginationDate.y\",'LoanStatus.new'], values='LOA', aggfunc=[np.sum,len],dropna=True,fill_value=0)\n",
    "# tableDefaultLen = data.pivot_table(index = [\"LoanOriginationDate.y\",'LoanStatus.new'], values='LOA', aggfunc=len,dropna=True,fill_value=0)"
   ]
  },
  {
   "cell_type": "code",
   "execution_count": null,
   "metadata": {
    "collapsed": false
   },
   "outputs": [],
   "source": []
  },
  {
   "cell_type": "markdown",
   "metadata": {},
   "source": [
    "tableDefaultTotalFinal = tableDefaultTotal.unstack('LoanStatus.new')\n",
    "# tableDefaultLenFinal = tableDefaultLen.unstack('LoanStatus.new')"
   ]
  },
  {
   "cell_type": "code",
   "execution_count": null,
   "metadata": {
    "collapsed": true
   },
   "outputs": [],
   "source": []
  },
  {
   "cell_type": "code",
   "execution_count": 210,
   "metadata": {
    "collapsed": false
   },
   "outputs": [],
   "source": [
    "# print tableDefaultTotalFinal"
   ]
  },
  {
   "cell_type": "code",
   "execution_count": 211,
   "metadata": {
    "collapsed": false
   },
   "outputs": [
    {
     "name": "stdout",
     "output_type": "stream",
     "text": [
      "['index' 'Year' 'Value Cancelled' 'Value Completed' 'Value Current'\n",
      " 'Value Defaulted/Charged Off' 'Value Final Payment'\n",
      " 'Value Past Due < 120 Days' 'Value Past Due > 120 Days' 'Count Cancelled'\n",
      " 'Count Completed' 'Count Current' 'Count Defaulted/Charged Off'\n",
      " 'Count Final Payment' 'Count Past Due < 120 Days'\n",
      " 'Count Past Due > 120 Days' 'Total']\n"
     ]
    }
   ],
   "source": [
    "tableDefaultTotalFinal = tableDefaultTotalFinal.fillna(0).reset_index()\n",
    "# tableDefaultLenFinal = tableDefaultLenFinal.fillna(0).reset_index()\n",
    "\n",
    "print tableDefaultTotalFinal.columns.values\n",
    "# tableDefaultLenFinal.columns.values"
   ]
  },
  {
   "cell_type": "code",
   "execution_count": 198,
   "metadata": {
    "collapsed": true
   },
   "outputs": [],
   "source": [
    "\n",
    "tableDefaultTotalFinal.columns = [' '.join(col).strip() for col in tableDefaultTotalFinal.columns.values]"
   ]
  },
  {
   "cell_type": "code",
   "execution_count": 200,
   "metadata": {
    "collapsed": false
   },
   "outputs": [
    {
     "name": "stdout",
     "output_type": "stream",
     "text": [
      "['LoanOriginationDate.y' 'sum Cancelled' 'sum Completed' 'sum Current'\n",
      " 'sum Defaulted/Charged Off' 'sum Final Payment' 'sum Past Due < 120 Days'\n",
      " 'sum Past Due > 120 Days' 'len Cancelled' 'len Completed' 'len Current'\n",
      " 'len Defaulted/Charged Off' 'len Final Payment' 'len Past Due < 120 Days'\n",
      " 'len Past Due > 120 Days']\n"
     ]
    }
   ],
   "source": [
    "print tableDefaultTotalFinal.columns.values\n",
    "# print tableDefaultTotalFinal"
   ]
  },
  {
   "cell_type": "code",
   "execution_count": 201,
   "metadata": {
    "collapsed": false
   },
   "outputs": [
    {
     "name": "stdout",
     "output_type": "stream",
     "text": [
      "['Completed' 'Defaulted/Charged Off' 'Current' 'Final Payment'\n",
      " 'Past Due < 120 Days' 'Cancelled' 'Past Due > 120 Days']\n"
     ]
    }
   ],
   "source": [
    "print data['LoanStatus.new'].unique()"
   ]
  },
  {
   "cell_type": "code",
   "execution_count": 205,
   "metadata": {
    "collapsed": false
   },
   "outputs": [
    {
     "name": "stdout",
     "output_type": "stream",
     "text": [
      "['Year' 'Value Cancelled' 'Value Completed' 'Value Current'\n",
      " 'Value Defaulted/Charged Off' 'Value Final Payment'\n",
      " 'Value Past Due < 120 Days' 'Value Past Due > 120 Days' 'Count Cancelled'\n",
      " 'Count Completed' 'Count Current' 'Count Defaulted/Charged Off'\n",
      " 'Count Final Payment' 'Count Past Due < 120 Days'\n",
      " 'Count Past Due > 120 Days' 'Total']\n"
     ]
    },
    {
     "ename": "ValueError",
     "evalue": "Length mismatch: Expected axis has 16 elements, new values have 15 elements",
     "output_type": "error",
     "traceback": [
      "\u001b[0;31m---------------------------------------------------------------------------\u001b[0m",
      "\u001b[0;31mValueError\u001b[0m                                Traceback (most recent call last)",
      "\u001b[0;32m<ipython-input-205-315b952b9e02>\u001b[0m in \u001b[0;36m<module>\u001b[0;34m()\u001b[0m\n\u001b[1;32m      5\u001b[0m  \u001b[0;34m'Value Past Due > 120 Days'\u001b[0m\u001b[0;34m,\u001b[0m \u001b[0;34m'Count Cancelled'\u001b[0m\u001b[0;34m,\u001b[0m \u001b[0;34m'Count Completed'\u001b[0m\u001b[0;34m,\u001b[0m \u001b[0;34m'Count Current'\u001b[0m\u001b[0;34m,\u001b[0m\u001b[0;34m\u001b[0m\u001b[0m\n\u001b[1;32m      6\u001b[0m  \u001b[0;34m'Count Defaulted/Charged Off'\u001b[0m\u001b[0;34m,\u001b[0m \u001b[0;34m'Count Final Payment'\u001b[0m\u001b[0;34m,\u001b[0m \u001b[0;34m'Count Past Due < 120 Days'\u001b[0m\u001b[0;34m,\u001b[0m\u001b[0;34m\u001b[0m\u001b[0m\n\u001b[0;32m----> 7\u001b[0;31m  'Count Past Due > 120 Days']\n\u001b[0m\u001b[1;32m      8\u001b[0m \u001b[0;34m\u001b[0m\u001b[0m\n\u001b[1;32m      9\u001b[0m \u001b[0;32mprint\u001b[0m \u001b[0mtableDefaultTotalFinal\u001b[0m\u001b[0;34m\u001b[0m\u001b[0m\n",
      "\u001b[0;32m/Users/myles/anaconda/lib/python2.7/site-packages/pandas/core/generic.pyc\u001b[0m in \u001b[0;36m__setattr__\u001b[0;34m(self, name, value)\u001b[0m\n\u001b[1;32m   2683\u001b[0m         \u001b[0;32mtry\u001b[0m\u001b[0;34m:\u001b[0m\u001b[0;34m\u001b[0m\u001b[0m\n\u001b[1;32m   2684\u001b[0m             \u001b[0mobject\u001b[0m\u001b[0;34m.\u001b[0m\u001b[0m__getattribute__\u001b[0m\u001b[0;34m(\u001b[0m\u001b[0mself\u001b[0m\u001b[0;34m,\u001b[0m \u001b[0mname\u001b[0m\u001b[0;34m)\u001b[0m\u001b[0;34m\u001b[0m\u001b[0m\n\u001b[0;32m-> 2685\u001b[0;31m             \u001b[0;32mreturn\u001b[0m \u001b[0mobject\u001b[0m\u001b[0;34m.\u001b[0m\u001b[0m__setattr__\u001b[0m\u001b[0;34m(\u001b[0m\u001b[0mself\u001b[0m\u001b[0;34m,\u001b[0m \u001b[0mname\u001b[0m\u001b[0;34m,\u001b[0m \u001b[0mvalue\u001b[0m\u001b[0;34m)\u001b[0m\u001b[0;34m\u001b[0m\u001b[0m\n\u001b[0m\u001b[1;32m   2686\u001b[0m         \u001b[0;32mexcept\u001b[0m \u001b[0mAttributeError\u001b[0m\u001b[0;34m:\u001b[0m\u001b[0;34m\u001b[0m\u001b[0m\n\u001b[1;32m   2687\u001b[0m             \u001b[0;32mpass\u001b[0m\u001b[0;34m\u001b[0m\u001b[0m\n",
      "\u001b[0;32mpandas/src/properties.pyx\u001b[0m in \u001b[0;36mpandas.lib.AxisProperty.__set__ (pandas/lib.c:44748)\u001b[0;34m()\u001b[0m\n",
      "\u001b[0;32m/Users/myles/anaconda/lib/python2.7/site-packages/pandas/core/generic.pyc\u001b[0m in \u001b[0;36m_set_axis\u001b[0;34m(self, axis, labels)\u001b[0m\n\u001b[1;32m    426\u001b[0m \u001b[0;34m\u001b[0m\u001b[0m\n\u001b[1;32m    427\u001b[0m     \u001b[0;32mdef\u001b[0m \u001b[0m_set_axis\u001b[0m\u001b[0;34m(\u001b[0m\u001b[0mself\u001b[0m\u001b[0;34m,\u001b[0m \u001b[0maxis\u001b[0m\u001b[0;34m,\u001b[0m \u001b[0mlabels\u001b[0m\u001b[0;34m)\u001b[0m\u001b[0;34m:\u001b[0m\u001b[0;34m\u001b[0m\u001b[0m\n\u001b[0;32m--> 428\u001b[0;31m         \u001b[0mself\u001b[0m\u001b[0;34m.\u001b[0m\u001b[0m_data\u001b[0m\u001b[0;34m.\u001b[0m\u001b[0mset_axis\u001b[0m\u001b[0;34m(\u001b[0m\u001b[0maxis\u001b[0m\u001b[0;34m,\u001b[0m \u001b[0mlabels\u001b[0m\u001b[0;34m)\u001b[0m\u001b[0;34m\u001b[0m\u001b[0m\n\u001b[0m\u001b[1;32m    429\u001b[0m         \u001b[0mself\u001b[0m\u001b[0;34m.\u001b[0m\u001b[0m_clear_item_cache\u001b[0m\u001b[0;34m(\u001b[0m\u001b[0;34m)\u001b[0m\u001b[0;34m\u001b[0m\u001b[0m\n\u001b[1;32m    430\u001b[0m \u001b[0;34m\u001b[0m\u001b[0m\n",
      "\u001b[0;32m/Users/myles/anaconda/lib/python2.7/site-packages/pandas/core/internals.pyc\u001b[0m in \u001b[0;36mset_axis\u001b[0;34m(self, axis, new_labels)\u001b[0m\n\u001b[1;32m   2633\u001b[0m             raise ValueError('Length mismatch: Expected axis has %d elements, '\n\u001b[1;32m   2634\u001b[0m                              \u001b[0;34m'new values have %d elements'\u001b[0m \u001b[0;34m%\u001b[0m\u001b[0;34m\u001b[0m\u001b[0m\n\u001b[0;32m-> 2635\u001b[0;31m                              (old_len, new_len))\n\u001b[0m\u001b[1;32m   2636\u001b[0m \u001b[0;34m\u001b[0m\u001b[0m\n\u001b[1;32m   2637\u001b[0m         \u001b[0mself\u001b[0m\u001b[0;34m.\u001b[0m\u001b[0maxes\u001b[0m\u001b[0;34m[\u001b[0m\u001b[0maxis\u001b[0m\u001b[0;34m]\u001b[0m \u001b[0;34m=\u001b[0m \u001b[0mnew_labels\u001b[0m\u001b[0;34m\u001b[0m\u001b[0m\n",
      "\u001b[0;31mValueError\u001b[0m: Length mismatch: Expected axis has 16 elements, new values have 15 elements"
     ]
    }
   ],
   "source": [
    "print tableDefaultTotalFinal.columns.values\n",
    "\n",
    "tableDefaultTotalFinal.columns = ['Year', 'Value Cancelled', 'Value Completed', 'Value Current',\n",
    " 'Value Defaulted/Charged Off', 'Value Final Payment', 'Value Past Due < 120 Days',\n",
    " 'Value Past Due > 120 Days', 'Count Cancelled', 'Count Completed', 'Count Current',\n",
    " 'Count Defaulted/Charged Off', 'Count Final Payment', 'Count Past Due < 120 Days',\n",
    " 'Count Past Due > 120 Days']\n",
    " \n",
    "print tableDefaultTotalFinal.columns.values"
   ]
  },
  {
   "cell_type": "code",
   "execution_count": 206,
   "metadata": {
    "collapsed": false
   },
   "outputs": [
    {
     "name": "stdout",
     "output_type": "stream",
     "text": [
      "   Year  Value Cancelled  Value Completed  Value Current  \\\n",
      "0  2005              0.0          78687.0            0.0   \n",
      "1  2006           7500.0       17298830.0            0.0   \n",
      "2  2007              0.0       45908012.0            0.0   \n",
      "3  2008           1000.0       45385707.0            0.0   \n",
      "4  2009              0.0        7590107.0            0.0   \n",
      "5  2010              0.0       22654041.0       270800.0   \n",
      "6  2011              0.0       35579535.0     24040002.0   \n",
      "7  2012              0.0       39661280.0     87997452.0   \n",
      "8  2013              0.0       20877251.0    329808248.0   \n",
      "9  2014              0.0         610086.0    144058100.0   \n",
      "\n",
      "   Value Defaulted/Charged Off  Value Final Payment  \\\n",
      "0                          0.0                  0.0   \n",
      "1                   10825869.0                  0.0   \n",
      "2                   34879774.0                  0.0   \n",
      "3                   24175143.0                  0.0   \n",
      "4                    1324289.0                  0.0   \n",
      "5                    3976145.0                  0.0   \n",
      "6                   13223654.0             265457.0   \n",
      "7                   18243762.0             429198.0   \n",
      "8                    2637928.0             873000.0   \n",
      "9                          0.0             143300.0   \n",
      "\n",
      "   Value Past Due < 120 Days  Value Past Due > 120 Days  Count Cancelled  \\\n",
      "0                        0.0                        0.0              0.0   \n",
      "1                        0.0                        0.0              4.0   \n",
      "2                        0.0                        0.0              0.0   \n",
      "3                        0.0                        0.0              1.0   \n",
      "4                        0.0                        0.0              0.0   \n",
      "5                    39500.0                        0.0              0.0   \n",
      "6                  2000365.0                    29000.0              0.0   \n",
      "7                  6778424.0                    65000.0              0.0   \n",
      "8                  7935351.0                    38500.0              0.0   \n",
      "9                   184050.0                        0.0              0.0   \n",
      "\n",
      "   Count Completed  Count Current  Count Defaulted/Charged Off  \\\n",
      "0             22.0            0.0                          0.0   \n",
      "1           3577.0            0.0                       2325.0   \n",
      "2           6936.0            0.0                       4524.0   \n",
      "3           7743.0            0.0                       3808.0   \n",
      "4           1736.0            0.0                        311.0   \n",
      "5           4688.0           19.0                        937.0   \n",
      "6           5488.0         3261.0                       2145.0   \n",
      "7           5518.0        10487.0                       2622.0   \n",
      "8           2297.0        30743.0                        338.0   \n",
      "9             69.0        12066.0                          0.0   \n",
      "\n",
      "   Count Final Payment  Count Past Due < 120 Days  Count Past Due > 120 Days  \\\n",
      "0                  0.0                        0.0                        0.0   \n",
      "1                  0.0                        0.0                        0.0   \n",
      "2                  0.0                        0.0                        0.0   \n",
      "3                  0.0                        0.0                        0.0   \n",
      "4                  0.0                        0.0                        0.0   \n",
      "5                  0.0                        8.0                        0.0   \n",
      "6                 39.0                      291.0                        4.0   \n",
      "7                 54.0                      865.0                        7.0   \n",
      "8                 94.0                      868.0                        5.0   \n",
      "9                 18.0                       19.0                        0.0   \n",
      "\n",
      "   Total  \n",
      "0    NaN  \n",
      "1    NaN  \n",
      "2    NaN  \n",
      "3    NaN  \n",
      "4    NaN  \n",
      "5    NaN  \n",
      "6    NaN  \n",
      "7    NaN  \n",
      "8    NaN  \n",
      "9    NaN  \n"
     ]
    }
   ],
   "source": [
    "print tableDefaultTotalFinal"
   ]
  },
  {
   "cell_type": "code",
   "execution_count": 207,
   "metadata": {
    "collapsed": false
   },
   "outputs": [
    {
     "name": "stdout",
     "output_type": "stream",
     "text": [
      "0       22.0\n",
      "1     5906.0\n",
      "2    11460.0\n",
      "3    11552.0\n",
      "4     2047.0\n",
      "5     5652.0\n",
      "6    11228.0\n",
      "7    19553.0\n",
      "8    34345.0\n",
      "9    12172.0\n",
      "Name: Total, dtype: float64\n"
     ]
    }
   ],
   "source": [
    "tableDefaultTotalFinal['Total'] = tableDefaultTotalFinal[['Count Cancelled', 'Count Completed', 'Count Current',\n",
    " 'Count Defaulted/Charged Off', 'Count Final Payment', 'Count Past Due < 120 Days',\n",
    " 'Count Past Due > 120 Days']].fillna(0).sum(axis=1)\n",
    "\n",
    "print tableDefaultTotalFinal['Total'] "
   ]
  },
  {
   "cell_type": "code",
   "execution_count": 208,
   "metadata": {
    "collapsed": true
   },
   "outputs": [],
   "source": [
    "# tableDefaultLenFinal.to_csv('tableDefaultLenFinal.csv', index=False)\n",
    "tableDefaultTotalFinal.to_csv('tableDefaultTotalFinal.csv', index=False) \n"
   ]
  },
  {
   "cell_type": "code",
   "execution_count": null,
   "metadata": {
    "collapsed": true
   },
   "outputs": [],
   "source": [
    "del tableDefaultTotal, tableDefaultLen, tableDefaultLenFinal, tableDefaultTotalFinal"
   ]
  },
  {
   "cell_type": "markdown",
   "metadata": {},
   "source": [
    "## Prepare for Yield Calculations"
   ]
  },
  {
   "cell_type": "markdown",
   "metadata": {},
   "source": [
    "### Subset Data for Not Current"
   ]
  },
  {
   "cell_type": "code",
   "execution_count": 123,
   "metadata": {
    "collapsed": false
   },
   "outputs": [
    {
     "name": "stdout",
     "output_type": "stream",
     "text": [
      "len(data)\n",
      "113937\n",
      "len(dataNotCurrentBase)\n",
      "57361\n"
     ]
    }
   ],
   "source": [
    "data[\"DollarLenderYield\"] = (data.LOA*data.LenderYield)/100\n",
    "\n",
    "\n",
    "print \"len(data)\"\n",
    "print len(data)\n",
    "dataNotCurrentBase = data[(data[\"LoanStatus\"] != \"Current\")][['ListingNumber','monthyear' ,'Categories','DollarLenderYield',\n",
    "                                                             'LoanOriginationDate.y','Term', \"TrueTerm\" ,\"TrueTermYears\",\n",
    "                                                            \"LoanStatus\", \"CombCreditRating\",\n",
    "                                                             'BorrowerState', 'LenderYield', 'LP_CustomerPayments',\n",
    "                                                             'LP_NonPrincipalRecoverypayments','LOA','LP_ServiceFees',\n",
    "                                                             'LP_CollectionFees','LP_GrossPrincipalLoss','LP_NetPrincipalLoss']].copy()\n",
    "print \"len(dataNotCurrentBase)\"\n",
    "print len(dataNotCurrentBase)\n",
    "\n",
    "\n"
   ]
  },
  {
   "cell_type": "markdown",
   "metadata": {
    "collapsed": false
   },
   "source": [
    "### Remove Loans with no Completed Date"
   ]
  },
  {
   "cell_type": "code",
   "execution_count": 124,
   "metadata": {
    "collapsed": false
   },
   "outputs": [],
   "source": [
    "dataNotCurrent = dataNotCurrentBase[(dataNotCurrentBase['TrueTerm']!=0) & (dataNotCurrentBase['TrueTerm'] > 0)].copy()\n",
    "\n",
    "# dataNotCurrent = dataNotCurrentBase1.fillna(0, inplace=True)\n",
    "\n",
    "# print dataNotCurrent\n",
    "\n"
   ]
  },
  {
   "cell_type": "code",
   "execution_count": 125,
   "metadata": {
    "collapsed": true
   },
   "outputs": [],
   "source": [
    "del dataNotCurrentBase"
   ]
  },
  {
   "cell_type": "code",
   "execution_count": 126,
   "metadata": {
    "collapsed": false
   },
   "outputs": [
    {
     "name": "stdout",
     "output_type": "stream",
     "text": [
      "YAY 1\n",
      "YAY 2\n",
      "YAY 3\n"
     ]
    }
   ],
   "source": [
    "\n",
    "def netPayments(df):\n",
    "    # Proportional Return\n",
    "    a = df[['LP_CustomerPayments','LP_ServiceFees','LP_CollectionFees','LP_NonPrincipalRecoverypayments','LP_GrossPrincipalLoss']].sum(axis=\"columns\").copy()\n",
    "    b = df[['LOA','LP_NetPrincipalLoss']].sum(axis=\"columns\").copy()\n",
    "    c = pd.DataFrame(a - b)\n",
    "    \n",
    "    # Exponent for annualized return\n",
    "    termFrac = (12/df.TrueTerm).copy()\n",
    "\n",
    "    # Double check calculations of cumulative return    \n",
    "    # valueTotal1 = (c.T / df.LOA).T\n",
    "\n",
    "    # Calculation of cumulative return    \n",
    "    valueTotal = c.div(df.LOA, axis=\"index\")\n",
    "    \n",
    "    # Annualized Actual Yield\n",
    "    valueTotal = valueTotal + 1\n",
    "    df['eIRate'] = (valueTotal.pow(termFrac, axis=\"index\")) - 1\n",
    "    \n",
    "    # Annualized Dollar Actual Yield\n",
    "    df['annualNetP'] = df['eIRate']*df.LOA\n",
    "    \n",
    "    # Annualized Dollar Lender's Yield\n",
    "    df['LYNetP'] = df[['DollarLenderYield']]\n",
    "    # Annualized Lender's Yield\n",
    "    df['LYIRate'] = df[['LYNetP']].div(df.LOA, axis=\"index\")\n",
    "    \n",
    "    '''\n",
    "    # Export Calculations to Double Check Them\n",
    "    Newdf = pd.DataFrame( valueTotal)\n",
    "    # Newdf['valueTotal'] = valueTotal\n",
    "    Newdf['termFrac'] = termFrac\n",
    "    Newdf['eIRate'] = df.eIRate\n",
    "    Newdf['annualNetP'] = df.annualNetP\n",
    "    Newdf['LYIRate'] = df.LYIRate\n",
    "    Newdf['LYNetP'] = df.LYNetP\n",
    "    Newdf.to_csv('Newdf.csv', index=False)\n",
    "    '''\n",
    "    return df\n",
    "\n",
    "\n",
    "# Create Annualized Returns\n",
    "dataYield = netPayments(dataNotCurrent)\n",
    "\n",
    "# Export dataYield to Double Check Calculations\n",
    "dataYield.to_csv('dataYield.csv', index=False)\n"
   ]
  },
  {
   "cell_type": "code",
   "execution_count": 127,
   "metadata": {
    "collapsed": false
   },
   "outputs": [
    {
     "name": "stdout",
     "output_type": "stream",
     "text": [
      "allD, allDSum, noPay, percentNoPay, percentNoPaySum, noPay90, percentNoPay90, percentNoPay90Sum\n",
      "54146 338652392 476 0.879104643002 0.666385076058 10738 19.8315665054 20.8114519977\n"
     ]
    }
   ],
   "source": [
    "# Generate Interesting Summary Statistics\n",
    "\n",
    "# Count and Total of those who never repaid a dime\n",
    "noPay = len(dataYield[dataYield['LP_CustomerPayments'] ==0])\n",
    "noPaySum = dataYield[dataYield['LP_CustomerPayments'] ==0][\"LOA\"].sum()\n",
    "allD = len(dataYield)\n",
    "allDSum = dataYield[\"LOA\"].sum()\n",
    "\n",
    "\n",
    "# Count and Total of those who paid back less than 50%\n",
    "noPay50 = len(dataYield[(dataYield['LP_CustomerPayments']/dataYield['LOA']) < 0.5])\n",
    "noPay50Sum = dataYield[(dataYield['LP_CustomerPayments']/dataYield['LOA']) < 0.5][\"LOA\"].sum()\n",
    "\n",
    "# Create Percentages\n",
    "percentNoPay = (noPay/float(allD))*100\n",
    "percentNoPaySum = noPaySum/float(allDSum)*100\n",
    "percentNoPay50 = (noPay50/float(allD))*100\n",
    "percentNoPay50Sum = noPay50Sum/float(allDSum)*100\n",
    "\n",
    "print \"allD, allDSum, noPay, percentNoPay, percentNoPaySum, noPay90, percentNoPay90, percentNoPay90Sum\"\n",
    "print allD, allDSum, noPay, percentNoPay, percentNoPaySum, noPay50, percentNoPay50, percentNoPay50Sum"
   ]
  },
  {
   "cell_type": "markdown",
   "metadata": {
    "collapsed": false
   },
   "source": [
    "### Pivot Tables to generate subsets (Year & Credit Rating, Year, Month & Credit Rating)"
   ]
  },
  {
   "cell_type": "markdown",
   "metadata": {},
   "source": [
    "#### Not Necessary - divide data in completed and not completed"
   ]
  },
  {
   "cell_type": "markdown",
   "metadata": {
    "collapsed": false
   },
   "source": [
    "dNCCompleted = dataYield[(dataYield[\"LoanStatus\"] == \"Completed\") | (dataYield[\"LoanStatus\"] == \"FinalPaymentInProgress\") ]\n",
    "\n",
    "dNCNotCompleted = dataYield[(dataYield[\"LoanStatus\"] != \"Completed\") & (dataYield[\"LoanStatus\"] != \"FinalPaymentInProgress\") ]\n",
    "\n",
    "print \"len(dNCCompleted)\"\n",
    "print len(dNCCompleted)\n",
    "\n",
    "print \"len(dNCNotCompleted)\"\n",
    "print len(dNCNotCompleted)"
   ]
  },
  {
   "cell_type": "code",
   "execution_count": 129,
   "metadata": {
    "collapsed": false
   },
   "outputs": [
    {
     "name": "stdout",
     "output_type": "stream",
     "text": [
      "['ListingNumber' 'monthyear' 'Categories' 'DollarLenderYield'\n",
      " 'LoanOriginationDate.y' 'Term' 'TrueTerm' 'TrueTermYears' 'LoanStatus'\n",
      " 'CombCreditRating' 'BorrowerState' 'LenderYield' 'LP_CustomerPayments'\n",
      " 'LP_NonPrincipalRecoverypayments' 'LOA' 'LP_ServiceFees'\n",
      " 'LP_CollectionFees' 'LP_GrossPrincipalLoss' 'LP_NetPrincipalLoss' 'eIRate'\n",
      " 'annualNetP' 'LYNetP' 'LYIRate']\n"
     ]
    }
   ],
   "source": [
    "print dataYield.columns.values"
   ]
  },
  {
   "cell_type": "code",
   "execution_count": 130,
   "metadata": {
    "collapsed": true
   },
   "outputs": [],
   "source": [
    "tabledataYield = dataYield.pivot_table(index = [\"LoanOriginationDate.y\",'CombCreditRating'],\n",
    "                         values=['LOA','annualNetP','LYNetP', 'DollarLenderYield'],\n",
    "                         aggfunc=[np.sum,len])\n",
    "\n",
    "tabledataYield = tabledataYield.reset_index()\n",
    "\n",
    "tabledataYield.columns = [' '.join(col).strip() for col in tabledataYield.columns.values]\n",
    "\n",
    "\n",
    "tabledataYieldTOTAL = dataYield.pivot_table(index = [\"LoanOriginationDate.y\"],\n",
    "                         values=['LOA','annualNetP','LYNetP', 'DollarLenderYield'],\n",
    "                         aggfunc=[np.sum,len])\n",
    "\n",
    "tabledataYieldTOTAL = tabledataYieldTOTAL.reset_index()\n",
    "\n",
    "tabledataYieldTOTAL.columns = [' '.join(col).strip() for col in tabledataYieldTOTAL.columns.values]"
   ]
  },
  {
   "cell_type": "code",
   "execution_count": 131,
   "metadata": {
    "collapsed": true
   },
   "outputs": [],
   "source": [
    "tabledataMonthYield = dataYield.pivot_table(index = [\"monthyear\",\"LoanOriginationDate.y\",'CombCreditRating'],\n",
    "                         values=['LOA','annualNetP','LYNetP', 'DollarLenderYield'],\n",
    "                         aggfunc=[np.sum,len])\n",
    "\n",
    "tabledataMonthYield = tabledataMonthYield.reset_index()\n",
    "\n",
    "tabledataMonthYield.columns = [' '.join(col).strip() for col in tabledataMonthYield.columns.values]\n",
    "\n",
    "\n",
    "tabledataMonthYieldTOTAL = dataYield.pivot_table(index = [\"monthyear\",\"LoanOriginationDate.y\"],\n",
    "                         values=['LOA','annualNetP','LYNetP', 'DollarLenderYield'],\n",
    "                         aggfunc=[np.sum,len])\n",
    "\n",
    "tabledataMonthYieldTOTAL = tabledataMonthYieldTOTAL.reset_index()\n",
    "\n",
    "tabledataMonthYieldTOTAL.columns = [' '.join(col).strip() for col in tabledataMonthYieldTOTAL.columns.values]"
   ]
  },
  {
   "cell_type": "code",
   "execution_count": 147,
   "metadata": {
    "collapsed": false
   },
   "outputs": [],
   "source": [
    "# print tabledataMonthYield"
   ]
  },
  {
   "cell_type": "code",
   "execution_count": 134,
   "metadata": {
    "collapsed": false,
    "scrolled": true
   },
   "outputs": [
    {
     "name": "stdout",
     "output_type": "stream",
     "text": [
      "['Year' 'CreditRating' 'S_DollarLenderYield' 'S_LOA' 'S_LYNetP'\n",
      " 'S_annualNetP' 'L_DollarLenderYield' 'L_LOA' 'L_LYNetP' 'L_annualNetP']\n",
      "['Year' 'CreditRating' 'S_DollarLenderYield' 'S_LOA' 'S_LYNetP'\n",
      " 'S_annualNetP' 'L_DollarLenderYield' 'L_LOA' 'L_LYNetP' 'L_annualNetP']\n",
      "['Year' 'S_DollarLenderYield' 'S_LOA' 'S_LYNetP' 'S_annualNetP'\n",
      " 'L_DollarLenderYield' 'L_LOA' 'L_LYNetP' 'L_annualNetP']\n",
      "['Year' 'S_DollarLenderYield' 'S_LOA' 'S_LYNetP' 'S_annualNetP'\n",
      " 'L_DollarLenderYield' 'L_LOA' 'L_LYNetP' 'L_annualNetP']\n",
      "['Month_Year' 'Year' 'CreditRating' 'S_DollarLenderYield' 'S_LOA'\n",
      " 'S_LYNetP' 'S_annualNetP' 'L_DollarLenderYield' 'L_LOA' 'L_LYNetP'\n",
      " 'L_annualNetP']\n",
      "['Month_Year' 'Year' 'CreditRating' 'S_DollarLenderYield' 'S_LOA'\n",
      " 'S_LYNetP' 'S_annualNetP' 'L_DollarLenderYield' 'L_LOA' 'L_LYNetP'\n",
      " 'L_annualNetP']\n",
      "['monthyear' 'LoanOriginationDate.y' 'sum DollarLenderYield' 'sum LOA'\n",
      " 'sum LYNetP' 'sum annualNetP' 'len DollarLenderYield' 'len LOA'\n",
      " 'len LYNetP' 'len annualNetP']\n",
      "['Month_Year' 'Year' 'S_DollarLenderYield' 'S_LOA' 'S_LYNetP'\n",
      " 'S_annualNetP' 'L_DollarLenderYield' 'L_LOA' 'L_LYNetP' 'L_annualNetP']\n"
     ]
    }
   ],
   "source": [
    "print tabledataYield.columns.values\n",
    "\n",
    "tabledataYield.columns = ['Year', 'CreditRating',\n",
    "       'Sum Yield Returns', 'Total Loan Amount', 'S_LYNetP', 'S_annualNetP',\n",
    "       'Count Yield Returns', 'Count Loan Amount', 'L_LYNetP', 'L_annualNetP']\n",
    " \n",
    "\n",
    " \n",
    "print tabledataYield.columns.values\n",
    "\n",
    "\n",
    "print tabledataYieldTOTAL.columns.values\n",
    "\n",
    "tabledataYieldTOTAL.columns = ['Year',\n",
    "       'Sum Yield Returns', 'Total Loan Amount', 'S_LYNetP', 'S_annualNetP',\n",
    "       'Count Yield Returns', 'Count Loan Amount', 'L_LYNetP', 'L_annualNetP']\n",
    " \n",
    " \n",
    "\n",
    "print tabledataYieldTOTAL.columns.values\n",
    "\n",
    "\n",
    "print tabledataMonthYield.columns.values\n",
    "\n",
    "tabledataMonthYield.columns = ['Month Year', 'Year', 'CreditRating',\n",
    "       'Sum Yield Returns', 'Total Loan Amount', 'S_LYNetP', 'S_annualNetP',\n",
    "       'Count Yield Returns', 'Count Loan Amount', 'L_LYNetP', 'L_annualNetP']\n",
    " \n",
    " \n",
    "\n",
    " \n",
    "print tabledataMonthYield.columns.values\n",
    "\n",
    "\n",
    "print tabledataMonthYieldTOTAL.columns.values\n",
    "\n",
    "tabledataMonthYieldTOTAL.columns = ['Month Year', 'Year',\n",
    "       'Sum Yield Returns', 'Total Loan Amount', 'S_LYNetP', 'S_annualNetP',\n",
    "       'Count Yield Returns', 'Count Loan Amount', 'L_LYNetP', 'L_annualNetP']\n",
    " \n",
    " \n",
    "\n",
    "# print tabledataMonthYieldTOTAL.columns.values\n"
   ]
  },
  {
   "cell_type": "code",
   "execution_count": null,
   "metadata": {
    "collapsed": false
   },
   "outputs": [],
   "source": []
  },
  {
   "cell_type": "code",
   "execution_count": 135,
   "metadata": {
    "collapsed": false
   },
   "outputs": [],
   "source": [
    "\n",
    "def returnsCalculator(df):\n",
    "    # Estimated Lender's Yield Return\n",
    "    df[\"Estimated Yield\"] = (df.S_LYNetP/df.S_LOA)*100\n",
    "    # Proportional Return\n",
    "    df[\"Estimated Actual Yield\"] = (df.S_annualNetP/df.S_LOA)*100\n",
    "\n",
    "    df[\"Estimated Yield Difference\"] = df[\"Estimated Yield\"] - df[\"Estimated Actual Yield\"]\n",
    "    return df\n",
    "                     \n",
    "                    \n"
   ]
  },
  {
   "cell_type": "code",
   "execution_count": 136,
   "metadata": {
    "collapsed": false
   },
   "outputs": [
    {
     "name": "stdout",
     "output_type": "stream",
     "text": [
      "    Year CreditRating  S_DollarLenderYield     S_LOA      S_LYNetP  \\\n",
      "0   2005            A         7.603310e+02      8998  7.603310e+02   \n",
      "1   2005           AA         8.620500e+02     12500  8.620500e+02   \n",
      "2   2005            C         1.725000e+03     15000  1.725000e+03   \n",
      "3   2005            D         3.800000e+02      4000  3.800000e+02   \n",
      "4   2005           HR         6.125000e+02      2500  6.125000e+02   \n",
      "5   2005           NC         4.080000e+02      4800  4.080000e+02   \n",
      "6   2006            A         4.186804e+05   3528396  4.186804e+05   \n",
      "7   2006           AA         3.296720e+05   3332898  3.296720e+05   \n",
      "8   2006            B         6.223265e+05   4219961  6.223265e+05   \n",
      "9   2006            C         8.533126e+05   5099687  8.533126e+05   \n",
      "10  2006            D         9.248173e+05   4500239  9.248173e+05   \n",
      "11  2006            E         9.772973e+05   4069637  9.772973e+05   \n",
      "12  2006           HR         6.922517e+05   2926129  6.922517e+05   \n",
      "13  2006           NC         5.247286e+04    237663  5.247286e+04   \n",
      "14  2007            A         1.681649e+06  13434277  1.681649e+06   \n",
      "15  2007           AA         1.291861e+06  12191522  1.291861e+06   \n",
      "16  2007            B         2.327296e+06  16028318  2.327296e+06   \n",
      "17  2007            C         2.992547e+06  17164860  2.992547e+06   \n",
      "18  2007            D         2.446220e+06  12326743  2.446220e+06   \n",
      "19  2007            E         1.149866e+06   4979025  1.149866e+06   \n",
      "20  2007           HR         9.406612e+05   4071307  9.406612e+05   \n",
      "21  2007           NC         1.885976e+04     84155  1.885976e+04   \n",
      "22  2008            A         1.987579e+06  13606428  1.987579e+06   \n",
      "23  2008           AA         1.806929e+06  15985699  1.806929e+06   \n",
      "24  2008            B         2.636479e+06  15992820  2.636479e+06   \n",
      "25  2008            C         2.208774e+06  12013051  2.208774e+06   \n",
      "26  2008            D         1.567648e+06   7745550  1.567648e+06   \n",
      "27  2008            E         5.685906e+05   2060895  5.685906e+05   \n",
      "28  2008           HR         4.397708e+05   1569138  4.397708e+05   \n",
      "29  2009            A         2.292144e+05   2192972  2.292144e+05   \n",
      "..   ...          ...                  ...       ...           ...   \n",
      "40  2010            D         1.330150e+06   5151814  1.330150e+06   \n",
      "41  2010            E         7.032344e+05   2218135  7.032344e+05   \n",
      "42  2010           HR         8.782563e+05   2732235  8.782563e+05   \n",
      "43  2011            A         8.214963e+05   7686751  8.214963e+05   \n",
      "44  2011           AA         2.376429e+05   3425822  2.376429e+05   \n",
      "45  2011            B         1.223725e+06   7848008  1.223725e+06   \n",
      "46  2011            C         8.367030e+05   4356895  8.367030e+05   \n",
      "47  2011            D         3.412539e+06  13592149  3.412539e+06   \n",
      "48  2011            E         2.588607e+06   8587602  2.588607e+06   \n",
      "49  2011           HR         7.884941e+05   2566806  7.884941e+05   \n",
      "50  2012            A         1.014538e+06   9459973  1.014538e+06   \n",
      "51  2012           AA         2.573388e+05   3565046  2.573388e+05   \n",
      "52  2012            B         1.642038e+06  10275049  1.642038e+06   \n",
      "53  2012            C         2.674583e+06  12887799  2.674583e+06   \n",
      "54  2012            D         2.649304e+06  10842079  2.649304e+06   \n",
      "55  2012            E         9.455914e+05   3282337  9.455914e+05   \n",
      "56  2012           HR         1.877455e+06   6104933  1.877455e+06   \n",
      "57  2013            A         3.512038e+05   3366694  3.512038e+05   \n",
      "58  2013           AA         6.860488e+04   1048535  6.860488e+04   \n",
      "59  2013            B         7.848136e+05   5358718  7.848136e+05   \n",
      "60  2013            C         1.150465e+06   6118673  1.150465e+06   \n",
      "61  2013            D         8.628125e+05   3741998  8.628125e+05   \n",
      "62  2013            E         3.901649e+05   1457700  3.901649e+05   \n",
      "63  2013           HR         1.055745e+05    348961  1.055745e+05   \n",
      "64  2014            A         6.192500e+03     69000  6.192500e+03   \n",
      "65  2014           AA         7.070000e+02     14000  7.070000e+02   \n",
      "66  2014            B         1.291400e+03     11000  1.291400e+03   \n",
      "67  2014            C         2.151450e+04    128500  2.151450e+04   \n",
      "68  2014            D         8.029000e+03     39000  8.029000e+03   \n",
      "69  2014            E         6.329720e+03     23800  6.329720e+03   \n",
      "\n",
      "    S_annualNetP  L_DollarLenderYield  L_LOA  L_LYNetP  L_annualNetP  \\\n",
      "0   3.922520e+02                  1.0      1       1.0           1.0   \n",
      "1   8.045053e+02                  6.0      6       6.0           6.0   \n",
      "2   1.685008e+03                  1.0      1       1.0           1.0   \n",
      "3   2.382834e+02                  1.0      1       1.0           1.0   \n",
      "4   1.055774e+03                  1.0      1       1.0           1.0   \n",
      "5   5.735214e+02                  1.0      1       1.0           1.0   \n",
      "6  -1.224183e+05                462.0    462     462.0         462.0   \n",
      "7  -5.188287e+03                493.0    493     493.0         493.0   \n",
      "8  -3.099128e+05                582.0    582     582.0         582.0   \n",
      "9  -4.322462e+05                882.0    882     882.0         882.0   \n",
      "10 -4.750317e+05                954.0    954     954.0         954.0   \n",
      "11 -8.110657e+05               1146.0   1146    1146.0        1146.0   \n",
      "12 -1.025665e+06               1221.0   1221    1221.0        1221.0   \n",
      "13 -1.055433e+05                105.0    105     105.0         105.0   \n",
      "14 -1.363988e+06               1300.0   1300    1300.0        1300.0   \n",
      "15 -6.162549e+05               1269.0   1269    1269.0        1269.0   \n",
      "16 -2.153298e+06               1677.0   1677    1677.0        1677.0   \n",
      "17 -3.004113e+06               2283.0   2283    2283.0        2283.0   \n",
      "18 -1.982522e+06               2147.0   2147    2147.0        2147.0   \n",
      "19 -1.008519e+06               1217.0   1217    1217.0        1217.0   \n",
      "20 -1.188937e+06               1436.0   1436    1436.0        1436.0   \n",
      "21 -3.868202e+04                 35.0     35      35.0          35.0   \n",
      "22 -1.369300e+06               1511.0   1511    1511.0        1511.0   \n",
      "23 -1.077185e+06               1657.0   1657    1657.0        1657.0   \n",
      "24 -1.979433e+06               2076.0   2076    2076.0        2076.0   \n",
      "25 -1.114966e+06               2441.0   2441    2441.0        2441.0   \n",
      "26 -7.459022e+05               2025.0   2025    2025.0        2025.0   \n",
      "27 -1.903020e+05                909.0    909     909.0         909.0   \n",
      "28 -2.861880e+05                834.0    834     834.0         834.0   \n",
      "29  5.941824e+04                452.0    452     452.0         452.0   \n",
      "..           ...                  ...    ...       ...           ...   \n",
      "40  3.000750e+05               1290.0   1290    1290.0        1290.0   \n",
      "41  1.573119e+05                625.0    625     625.0         625.0   \n",
      "42  2.039564e+05                901.0    901     901.0         901.0   \n",
      "43 -9.021600e+03                876.0    876     876.0         876.0   \n",
      "44  8.882589e+04                374.0    374     374.0         374.0   \n",
      "45 -1.013296e+05               1014.0   1014    1014.0        1014.0   \n",
      "46  8.285484e+04                575.0    575     575.0         575.0   \n",
      "47 -4.521723e+05               2281.0   2281    2281.0        2281.0   \n",
      "48 -6.109284e+05               1650.0   1650    1650.0        1650.0   \n",
      "49 -2.195180e+05                743.0    743     743.0         743.0   \n",
      "50 -6.181933e+05                923.0    923     923.0         923.0   \n",
      "51 -4.869104e+04                325.0    325     325.0         325.0   \n",
      "52 -7.685126e+05               1190.0   1190    1190.0        1190.0   \n",
      "53 -1.570565e+06               1524.0   1524    1524.0        1524.0   \n",
      "54 -1.790816e+06               1364.0   1364    1364.0        1364.0   \n",
      "55 -4.658711e+05                902.0    902     902.0         902.0   \n",
      "56 -9.869208e+05               1704.0   1704    1704.0        1704.0   \n",
      "57  1.431113e+05                315.0    315     315.0         315.0   \n",
      "58  4.165269e+04                108.0    108     108.0         108.0   \n",
      "59  3.321278e+05                460.0    460     460.0         460.0   \n",
      "60  4.258920e+05                577.0    577     577.0         577.0   \n",
      "61  2.312075e+05                475.0    475     475.0         475.0   \n",
      "62 -1.394582e+03                366.0    366     366.0         366.0   \n",
      "63 -1.007431e+04                 98.0     98      98.0          98.0   \n",
      "64  6.811369e+03                  4.0      4       4.0           4.0   \n",
      "65  1.146594e+03                  1.0      1       1.0           1.0   \n",
      "66  1.545244e+03                  2.0      2       2.0           2.0   \n",
      "67  3.051678e+04                 12.0     12      12.0          12.0   \n",
      "68  1.011074e+04                  5.0      5       5.0           5.0   \n",
      "69  9.687055e+03                  3.0      3       3.0           3.0   \n",
      "\n",
      "     estYield    estRate  estRateDiff  \n",
      "0    8.450000   4.359324     4.090676  \n",
      "1    6.896400   6.436042     0.460358  \n",
      "2   11.500000  11.233385     0.266615  \n",
      "3    9.500000   5.957086     3.542914  \n",
      "4   24.500000  42.230967   -17.730967  \n",
      "5    8.500000  11.948363    -3.448363  \n",
      "6   11.866027  -3.469518    15.335545  \n",
      "7    9.891451  -0.155669    10.047120  \n",
      "8   14.747209  -7.343973    22.091182  \n",
      "9   16.732646  -8.475935    25.208581  \n",
      "10  20.550405 -10.555700    31.106104  \n",
      "11  24.014362 -19.929682    43.944043  \n",
      "12  23.657593 -35.051936    58.709529  \n",
      "13  22.078681 -44.408786    66.487467  \n",
      "14  12.517598 -10.153044    22.670642  \n",
      "15  10.596384  -5.054782    15.651167  \n",
      "16  14.519902 -13.434332    27.954234  \n",
      "17  17.434148 -17.501530    34.935678  \n",
      "18  19.844818 -16.083096    35.927914  \n",
      "19  23.094192 -20.255353    43.349544  \n",
      "20  23.104649 -29.202835    52.307484  \n",
      "21  22.410746 -45.965210    68.375956  \n",
      "22  14.607650 -10.063626    24.671277  \n",
      "23  11.303412  -6.738430    18.041842  \n",
      "24  16.485394 -12.377009    28.862403  \n",
      "25  18.386454  -9.281286    27.667739  \n",
      "26  20.239332  -9.630074    29.869407  \n",
      "27  27.589497  -9.233949    36.823446  \n",
      "28  28.026265 -18.238548    46.264812  \n",
      "29  10.452228   2.709485     7.742743  \n",
      "..        ...        ...          ...  \n",
      "40  25.819062   5.824647    19.994415  \n",
      "41  31.703861   7.092080    24.611781  \n",
      "42  32.144245   7.464817    24.679428  \n",
      "43  10.687172  -0.117366    10.804537  \n",
      "44   6.936813   2.592834     4.343979  \n",
      "45  15.592817  -1.291150    16.883967  \n",
      "46  19.204111   1.901695    17.302416  \n",
      "47  25.106693  -3.326717    28.433410  \n",
      "48  30.143538  -7.114075    37.257613  \n",
      "49  30.718883  -8.552186    39.271069  \n",
      "50  10.724533  -6.534832    17.259364  \n",
      "51   7.218387  -1.365790     8.584177  \n",
      "52  15.980825  -7.479406    23.460231  \n",
      "53  20.752832 -12.186450    32.939281  \n",
      "54  24.435391 -16.517273    40.952664  \n",
      "55  28.808479 -14.193275    43.001754  \n",
      "56  30.753074 -16.165957    46.919031  \n",
      "57  10.431710   4.250796     6.180914  \n",
      "58   6.542927   3.972465     2.570462  \n",
      "59  14.645547   6.197897     8.447651  \n",
      "60  18.802520   6.960529    11.841991  \n",
      "61  23.057534   6.178718    16.878815  \n",
      "62  26.765788  -0.095670    26.861458  \n",
      "63  30.253962  -2.886946    33.140908  \n",
      "64   8.974638   9.871550    -0.896912  \n",
      "65   5.050000   8.189960    -3.139960  \n",
      "66  11.740000  14.047677    -2.307677  \n",
      "67  16.742802  23.748464    -7.005662  \n",
      "68  20.587179  25.924964    -5.337784  \n",
      "69  26.595462  40.701911   -14.106449  \n",
      "\n",
      "[70 rows x 13 columns]\n"
     ]
    }
   ],
   "source": [
    "\n",
    "tabledataYield = returnsCalculator(tabledataYield)\n",
    "    \n",
    "tabledataYieldTOTAL = returnsCalculator(tabledataYieldTOTAL)\n",
    "\n",
    "tabledataMonthYield = returnsCalculator(tabledataMonthYield)\n",
    "    \n",
    "tabledataMonthYieldTOTAL = returnsCalculator(tabledataMonthYieldTOTAL)\n",
    "\n",
    "print tabledataYield"
   ]
  },
  {
   "cell_type": "code",
   "execution_count": 137,
   "metadata": {
    "collapsed": false
   },
   "outputs": [
    {
     "name": "stdout",
     "output_type": "stream",
     "text": [
      "['Year' 'CreditRating' 'S_DollarLenderYield' 'S_LOA' 'S_LYNetP'\n",
      " 'S_annualNetP' 'L_DollarLenderYield' 'L_LOA' 'L_LYNetP' 'L_annualNetP'\n",
      " 'estYield' 'estRate' 'estRateDiff']\n",
      "['Year' 'S_DollarLenderYield' 'S_LOA' 'S_LYNetP' 'S_annualNetP'\n",
      " 'L_DollarLenderYield' 'L_LOA' 'L_LYNetP' 'L_annualNetP' 'estYield'\n",
      " 'estRate' 'estRateDiff']\n"
     ]
    }
   ],
   "source": [
    "print tabledataYield.columns.values\n",
    "\n",
    "print tabledataYieldTOTAL.columns.values"
   ]
  },
  {
   "cell_type": "code",
   "execution_count": 138,
   "metadata": {
    "collapsed": true
   },
   "outputs": [],
   "source": [
    "tabledataYield.to_csv('tabledataYield.csv', index=False)\n",
    "tabledataYieldTOTAL.to_csv('tabledataYieldTOTAL.csv', index=False)\n",
    "\n",
    "tabledataMonthYield.to_csv('tabledataMonthYield.csv', index=False)\n",
    "tabledataMonthYieldTOTAL.to_csv('tabledataMonthYieldTOTAL.csv', index=False)"
   ]
  },
  {
   "cell_type": "code",
   "execution_count": 96,
   "metadata": {
    "collapsed": false
   },
   "outputs": [
    {
     "name": "stdout",
     "output_type": "stream",
     "text": [
      "['A' 'AA' 'C' 'D' 'HR' 'NC' 'B' 'E']\n"
     ]
    }
   ],
   "source": [
    "print tabledataYield['CreditRating'].unique()"
   ]
  },
  {
   "cell_type": "code",
   "execution_count": 97,
   "metadata": {
    "collapsed": false
   },
   "outputs": [],
   "source": []
  },
  {
   "cell_type": "code",
   "execution_count": 98,
   "metadata": {
    "collapsed": false
   },
   "outputs": [],
   "source": []
  },
  {
   "cell_type": "markdown",
   "metadata": {},
   "source": [
    "tableLoanAmountByState.to_csv('tableLoanAmountByState.csv', index=False)\n",
    "tableLoanAmountByState2007.to_csv('tableLoanAmountByState2007.csv', index=False)\n"
   ]
  },
  {
   "cell_type": "markdown",
   "metadata": {
    "collapsed": false
   },
   "source": []
  },
  {
   "cell_type": "markdown",
   "metadata": {
    "collapsed": false
   },
   "source": []
  },
  {
   "cell_type": "markdown",
   "metadata": {
    "collapsed": false
   },
   "source": []
  },
  {
   "cell_type": "markdown",
   "metadata": {
    "collapsed": false
   },
   "source": []
  },
  {
   "cell_type": "markdown",
   "metadata": {
    "collapsed": false
   },
   "source": []
  },
  {
   "cell_type": "markdown",
   "metadata": {
    "collapsed": false
   },
   "source": []
  },
  {
   "cell_type": "markdown",
   "metadata": {
    "collapsed": false
   },
   "source": []
  },
  {
   "cell_type": "markdown",
   "metadata": {
    "collapsed": false
   },
   "source": []
  },
  {
   "cell_type": "markdown",
   "metadata": {
    "collapsed": false
   },
   "source": []
  },
  {
   "cell_type": "code",
   "execution_count": null,
   "metadata": {
    "collapsed": false
   },
   "outputs": [],
   "source": []
  },
  {
   "cell_type": "markdown",
   "metadata": {
    "collapsed": false
   },
   "source": [
    "def clean_states(state):\n",
    "    if len(state) == 2:\n",
    "        return state\n",
    "    elif state == \"Alabama\" : \n",
    "        return 'AL'\n",
    "    elif state == \"Alaska\" : \n",
    "        return 'AK'\n",
    "    elif state == \"Arizona\" : \n",
    "        return 'AZ'\n",
    "    elif state == \"Arkansas\" : \n",
    "        return 'AR'\n",
    "    elif state == \"California\" : \n",
    "        return 'CA'\n",
    "    elif state == \"Colorado\" : \n",
    "        return 'CO'\n",
    "    elif state == \"Connecticut\" : \n",
    "        return 'CT'\n",
    "    elif state == \"Delaware\" : \n",
    "        return 'DE'\n",
    "    elif state == \"Florida\" : \n",
    "        return 'FL'\n",
    "    elif state == \"Georgia\" : \n",
    "        return 'GA'\n",
    "    elif state == \"Hawaii\" : \n",
    "        return 'HI'\n",
    "    elif state == \"Idaho\" : \n",
    "        return 'ID'\n",
    "    elif state == \"Illinois\" : \n",
    "        return 'IL'\n",
    "    elif state == \"Indiana\" : \n",
    "        return 'IN'\n",
    "    elif state == \"Iowa\" : \n",
    "        return 'IA'\n",
    "    elif state == \"Kansas\" : \n",
    "        return 'KS'\n",
    "    elif state == \"Kentucky\" : \n",
    "        return 'KY'\n",
    "    elif state == \"Louisiana\" : \n",
    "        return 'LA'\n",
    "    elif state == \"Maine\" : \n",
    "        return 'ME'\n",
    "    elif state == \"Maryland\" : \n",
    "        return 'MD'\n",
    "    elif state == \"Massachusetts\" : \n",
    "        return 'MA'\n",
    "    elif state == \"Michigan\" : \n",
    "        return 'MI'\n",
    "    elif state == \"Minnesota\" : \n",
    "        return 'MN'\n",
    "    elif state == \"Mississippi\" : \n",
    "        return 'MS'\n",
    "    elif state == \"Missouri\" : \n",
    "        return 'MO'\n",
    "    elif state == \"Montana\" : \n",
    "        return 'MT'\n",
    "    elif state == \"Nebraska\" : \n",
    "        return 'NE'\n",
    "    elif state == \"Nevada\" : \n",
    "        return 'NV'\n",
    "    elif state == \"New Hampshire\" : \n",
    "        return 'NH'\n",
    "    elif state == \"New Jersey\" : \n",
    "        return 'NJ'\n",
    "    elif state == \"New Mexico\" : \n",
    "        return 'NM'\n",
    "    elif state == \"New York\" : \n",
    "        return 'NY'\n",
    "    elif state == \"North Carolina\" : \n",
    "        return 'NC'\n",
    "    elif state == \"North Dakota\" : \n",
    "        return 'ND'\n",
    "    elif state == \"Ohio\" : \n",
    "        return 'OH'\n",
    "    elif state == \"Oklahoma\" : \n",
    "        return 'OK'\n",
    "    elif state == \"Oregon\" : \n",
    "        return 'OR'\n",
    "    elif state == \"Pennsylvania\" : \n",
    "        return 'PA'\n",
    "    elif state == \"Rhode Island\" : \n",
    "        return 'RI'\n",
    "    elif state == \"South Carolina\" : \n",
    "        return 'SC'\n",
    "    elif state == \"South Dakota\" : \n",
    "        return 'SD'\n",
    "    elif state == \"Tennessee\" : \n",
    "        return 'TN'\n",
    "    elif state == \"Texas\" : \n",
    "        return 'TX'\n",
    "    elif state == \"Utah\" : \n",
    "        return 'UT'\n",
    "    elif state == \"Vermont\" : \n",
    "        return 'VT'\n",
    "    elif state == \"Virginia\" : \n",
    "        return 'VA'\n",
    "    elif state == \"Washington\" : \n",
    "        return 'WA'\n",
    "    elif state == \"West Virginia\" : \n",
    "        return 'WV'\n",
    "    elif state == \"Wisconsin\" : \n",
    "        return 'WI'\n",
    "    elif state == \"Wyoming\" :\n",
    "        return 'WY'"
   ]
  },
  {
   "cell_type": "markdown",
   "metadata": {
    "collapsed": false
   },
   "source": [
    "import pandas as pd\n",
    "states = ['Alabama', 'Arkansas', 'Alaska', 'Arizona', 'California', 'NY', 'NJ']\n",
    "\n",
    "print states\n",
    "\n",
    "cleaned_states = []\n",
    "for state in states:\n",
    "    cleaned_states.append(clean_states(state))\n",
    "\n",
    "print cleaned_states\n"
   ]
  },
  {
   "cell_type": "markdown",
   "metadata": {
    "collapsed": false
   },
   "source": [
    "import pandas as pd\n",
    "states = ['Alabama', 'Arkansas', 'Alaska', 'Arizona', 'California', 'NY', 'NJ']\n",
    "\n",
    "states = pd.DataFrame(states)\n",
    "print type(states)\n",
    "print states"
   ]
  },
  {
   "cell_type": "code",
   "execution_count": null,
   "metadata": {
    "collapsed": false
   },
   "outputs": [],
   "source": []
  },
  {
   "cell_type": "markdown",
   "metadata": {
    "collapsed": false
   },
   "source": [
    "from bokeh.plotting import figure, output_notebook, show\n",
    "output_notebook()\n",
    "p = figure()\n",
    "p.line([1,2,3,4,5],[6,7,2,4,5], line_width=2)\n",
    "show(p)"
   ]
  },
  {
   "cell_type": "code",
   "execution_count": null,
   "metadata": {
    "collapsed": true
   },
   "outputs": [],
   "source": []
  }
 ],
 "metadata": {
  "kernelspec": {
   "display_name": "Python 2",
   "language": "python",
   "name": "python2"
  },
  "language_info": {
   "codemirror_mode": {
    "name": "ipython",
    "version": 2
   },
   "file_extension": ".py",
   "mimetype": "text/x-python",
   "name": "python",
   "nbconvert_exporter": "python",
   "pygments_lexer": "ipython2",
   "version": "2.7.11"
  }
 },
 "nbformat": 4,
 "nbformat_minor": 0
}
